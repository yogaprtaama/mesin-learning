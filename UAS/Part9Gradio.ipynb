{
 "cells": [
  {
   "cell_type": "code",
   "execution_count": null,
   "metadata": {},
   "outputs": [],
   "source": [
    "import random\n",
    "\n",
    "import gradio as gr\n",
    "\n",
    "\n",
    "def chat(message, history):\n",
    "    history = history or []\n",
    "    if message.startswith(\"How many\"):\n",
    "        response = random.randint(1, 10)\n",
    "    elif message.startswith(\"How\"):\n",
    "        response = random.choice([\"Great\", \"Good\", \"Okay\", \"Bad\"])\n",
    "    elif message.startswith(\"Where\"):\n",
    "        response = random.choice([\"Here\", \"There\", \"Somewhere\"])\n",
    "    else:\n",
    "        response = \"I don't know\"\n",
    "    history.append((message, response))\n",
    "    return history, history\n",
    "\n",
    "\n",
    "iface = gr.Interface(\n",
    "    chat,\n",
    "    [\"text\", \"state\"],\n",
    "    [\"chatbot\", \"state\"],\n",
    "    allow_screenshot=False,\n",
    "    allow_flagging=\"never\",\n",
    ")\n",
    "iface.launch()"
   ]
  }
 ],
 "metadata": {
  "kernelspec": {
   "display_name": "Python 3",
   "language": "python",
   "name": "python3"
  },
  "language_info": {
   "name": "python",
   "version": "3.12.7"
  }
 },
 "nbformat": 4,
 "nbformat_minor": 2
}
